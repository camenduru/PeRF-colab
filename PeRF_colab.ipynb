{
  "cells": [
    {
      "cell_type": "markdown",
      "metadata": {
        "id": "view-in-github"
      },
      "source": [
        "[![Open In Colab](https://colab.research.google.com/assets/colab-badge.svg)](https://colab.research.google.com/github/camenduru/PeRF-colab/blob/main/PeRF_colab.ipynb)"
      ]
    },
    {
      "cell_type": "code",
      "execution_count": null,
      "metadata": {
        "id": "VjYy0F2gZIPR"
      },
      "outputs": [],
      "source": [
        "%cd /content\n",
        "!git clone -b dev https://github.com/camenduru/PeRF\n",
        "\n",
        "!apt -y install -qq aria2\n",
        "!aria2c --console-log-level=error -c -x 16 -s 16 -k 1M https://huggingface.co/camenduru/PeRF/resolve/main/512-inpainting-ema.ckpt -d /content/PeRF/pre_checkpoints -o 512-inpainting-ema.ckpt\n",
        "!aria2c --console-log-level=error -c -x 16 -s 16 -k 1M https://huggingface.co/camenduru/PeRF/resolve/main/big-lama.ckpt -d /content/PeRF/pre_checkpoints -o big-lama.ckpt\n",
        "!aria2c --console-log-level=error -c -x 16 -s 16 -k 1M https://huggingface.co/camenduru/PeRF/resolve/main/omnidata_dpt_depth_v2.ckpt -d /content/PeRF/pre_checkpoints -o omnidata_dpt_depth_v2.ckpt\n",
        "!aria2c --console-log-level=error -c -x 16 -s 16 -k 1M https://huggingface.co/camenduru/PeRF/resolve/main/omnidata_dpt_normal_v2.ckpt -d /content/PeRF/pre_checkpoints -o omnidata_dpt_normal_v2.ckpt\n",
        "\n",
        "!pip install -q https://huggingface.co/camenduru/tiny-cuda-nn/resolve/main/wheel/tinycudann-1.7-cp310-cp310-linux_x86_64.whl\n",
        "!pip install -q trimesh==4.0.1 omegaconf==2.3.0 hydra-core==1.3.2 icecream==2.1.3 webdataset==0.2.62 pytorch_lightning==1.7.7\n",
        "!pip install -q torchmetrics==0.11.4 kornia==0.7.0 einops==0.7.0 invisible_watermark==0.2.0 nerfacc==0.5.3\n",
        "!pip install -q https://download.pytorch.org/whl/cu118/xformers-0.0.22.post4%2Bcu118-cp310-cp310-manylinux2014_x86_64.whl\n",
        "!pip install -q loguru==0.7.2 memory_profiler==0.61.0 open_clip_torch==2.23.0 sync_batchnorm==0.0.1 timm==0.9.8 torch_efficient_distloss==0.1.3 transformers==4.34.1"
      ]
    },
    {
      "cell_type": "code",
      "execution_count": null,
      "metadata": {},
      "outputs": [],
      "source": [
        "%cd /content/PeRF\n",
        "!python core_exp_runner.py --config-name nerf dataset.image_path=/content/PeRF/example_data/kitchen/image.png device.base_exp_dir=/content/PeRF/exp mode=render_dense is_continue=true"
      ]
    }
  ],
  "metadata": {
    "accelerator": "GPU",
    "colab": {
      "gpuType": "T4",
      "provenance": []
    },
    "kernelspec": {
      "display_name": "Python 3",
      "name": "python3"
    },
    "language_info": {
      "name": "python"
    }
  },
  "nbformat": 4,
  "nbformat_minor": 0
}
